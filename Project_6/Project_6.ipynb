{
  "nbformat": 4,
  "nbformat_minor": 0,
  "metadata": {
    "colab": {
      "name": "Project_6.ipynb",
      "provenance": [],
      "collapsed_sections": []
    },
    "kernelspec": {
      "name": "python3",
      "display_name": "Python 3"
    },
    "language_info": {
      "name": "python"
    },
    "accelerator": "GPU"
  },
  "cells": [
    {
      "cell_type": "markdown",
      "metadata": {
        "id": "mZaXZ87PUpDJ"
      },
      "source": [
        "Download a pre-existing model from hugging face or word2vec\n",
        "- Use existing model to create embedding for similar text and dissimilar text to find similarity score.\n",
        "- Use other numeric representation such as unigram, tfidf(any one) for similar text and dissimilar text and compute similarity score.\n",
        "- Report your results, findings and conclusions.\n",
        "- Ipython notebook and Google docs with learning journals and findings(Individuals)."
      ]
    },
    {
      "cell_type": "code",
      "metadata": {
        "colab": {
          "base_uri": "https://localhost:8080/"
        },
        "id": "4MC0vvRGzVr7",
        "outputId": "90c6b9bc-8aed-416f-f682-f6397a621d38"
      },
      "source": [
        "import pandas as pd\n",
        "import numpy as np \n",
        "from nltk.corpus import stopwords\n",
        "import nltk\n",
        "nltk.download('stopwords')\n",
        "import re\n",
        "from sklearn.feature_extraction.text import TfidfVectorizer\n",
        "from sklearn.metrics.pairwise import cosine_similarity\n",
        "from sklearn.metrics.pairwise import euclidean_distances\n"
      ],
      "execution_count": 2,
      "outputs": [
        {
          "output_type": "stream",
          "text": [
            "[nltk_data] Downloading package stopwords to /root/nltk_data...\n",
            "[nltk_data]   Unzipping corpora/stopwords.zip.\n"
          ],
          "name": "stdout"
        }
      ]
    },
    {
      "cell_type": "code",
      "metadata": {
        "id": "1BLhaWFW0DQI"
      },
      "source": [
        "# Sample corpus\n",
        "documents = ['Machine learning is the study of computer algorithms that improve automatically through experience.\\\n",
        "Machine learning algorithms build a mathematical model based on sample data, known as training data.\\\n",
        "The discipline of machine learning employs various approaches to teach computers to accomplish tasks \\\n",
        "where no fully satisfactory algorithm is available.',\n",
        "\n",
        "'Machine learning is closely related to computational statistics, which focuses on making predictions using computers.\\\n",
        "The study of mathematical optimization delivers methods, theory and application domains to the field of machine learning.',\n",
        "'Machine learning involves computers discovering how they can perform tasks without being explicitly programmed to do so. \\\n",
        "It involves computers learning from data provided so that they carry out certain tasks.',\n",
        "\n",
        "'Machine learning approaches are traditionally divided into three broad categories, depending on the nature of the \"signal\"\\\n",
        "or \"feedback\" available to the learning system: Supervised, Unsupervised and Reinforcement',\n",
        "\n",
        "'Software engineering is the systematic application of engineering approaches to the development of software.\\\n",
        "Software engineering is a computing discipline.',\n",
        "\n",
        "'A software engineer creates programs based on logic for the computer to execute. A software engineer has to be more concerned\\\n",
        "about the correctness of the program in all the cases. Meanwhile, a data scientist is comfortable with uncertainty and variability.\\\n",
        "Developing a machine learning application is more iterative and explorative process than software engineering.'\n",
        "]\n"
      ],
      "execution_count": 3,
      "outputs": []
    },
    {
      "cell_type": "code",
      "metadata": {
        "colab": {
          "base_uri": "https://localhost:8080/"
        },
        "id": "CWvT_vy10PbT",
        "outputId": "50272e5c-404d-4c3c-a199-0a57b8316483"
      },
      "source": [
        "#preprocessing the documents\n",
        "documents_df = pd.DataFrame(documents, columns=['documents'])\n",
        "stop_words_l = stopwords.words('english')\n",
        "documents_df['documents_cleaned'] = documents_df.documents.apply(\n",
        "    lambda x: \" \".join(re.sub(r'[^a-zA-Z]',' ',w).lower() for w in x.split() \n",
        "    if re.sub(r'[^a-zA-Z]',' ',w).lower() not in stop_words_l) )\n",
        "# documents_df\n",
        "\n",
        "tfidfvectorizer=TfidfVectorizer()\n",
        "tfidfvectorizer.fit(documents_df.documents_cleaned)\n",
        "tfidf_vectors = tfidfvectorizer.transform(documents_df.documents_cleaned)\n",
        "\n",
        "# print(tfidf_vectors.T)\n",
        "#pairwise similarities references to cosine similarity\n",
        "pairwise_similarities = np.dot(tfidf_vectors, tfidf_vectors.T).toarray()\n",
        "pairwise_differences = euclidean_distances(tfidf_vectors)\n",
        "\n",
        "def most_similar(doc_id, similarity_matrix, matrix):\n",
        "  print(f'Document: {documents_df.iloc[doc_id][\"documents\"]}')\n",
        "  print ('\\n')\n",
        "  print('Similar Documents:')\n",
        "  if matrix == 'Cosine Similarity':\n",
        "    similar_ix = np.argsort(similarity_matrix[doc_id])[::-1]\n",
        "  elif matrix == 'Euclidean Distance':\n",
        "    similar_ix = np.argsort(similarity_matrix[doc_id])\n",
        "  for ix in similar_ix:\n",
        "    if ix==doc_id:\n",
        "      continue\n",
        "    print('\\n')\n",
        "    print (f'Document: {documents_df.iloc[ix][\"documents\"]}')\n",
        "    print (f'{matrix} : {similarity_matrix[doc_id][ix]}')\n",
        "  \n",
        "\n",
        "most_similar(0,pairwise_similarities,'Cosine Similarity')\n",
        "most_similar(0,pairwise_differences,'Euclidean Distance')  "
      ],
      "execution_count": 11,
      "outputs": [
        {
          "output_type": "stream",
          "text": [
            "Document: Machine learning is the study of computer algorithms that improve automatically through experience.Machine learning algorithms build a mathematical model based on sample data, known as training data.The discipline of machine learning employs various approaches to teach computers to accomplish tasks where no fully satisfactory algorithm is available.\n",
            "\n",
            "\n",
            "Similar Documents:\n",
            "\n",
            "\n",
            "Document: Machine learning is closely related to computational statistics, which focuses on making predictions using computers.The study of mathematical optimization delivers methods, theory and application domains to the field of machine learning.\n",
            "Cosine Similarity : 0.22860560787391593\n",
            "\n",
            "\n",
            "Document: Machine learning involves computers discovering how they can perform tasks without being explicitly programmed to do so. It involves computers learning from data provided so that they carry out certain tasks.\n",
            "Cosine Similarity : 0.22581304743529423\n",
            "\n",
            "\n",
            "Document: Machine learning approaches are traditionally divided into three broad categories, depending on the nature of the \"signal\"or \"feedback\" available to the learning system: Supervised, Unsupervised and Reinforcement\n",
            "Cosine Similarity : 0.15314340308039842\n",
            "\n",
            "\n",
            "Document: A software engineer creates programs based on logic for the computer to execute. A software engineer has to be more concernedabout the correctness of the program in all the cases. Meanwhile, a data scientist is comfortable with uncertainty and variability.Developing a machine learning application is more iterative and explorative process than software engineering.\n",
            "Cosine Similarity : 0.12407396777398046\n",
            "\n",
            "\n",
            "Document: Software engineering is the systematic application of engineering approaches to the development of software.Software engineering is a computing discipline.\n",
            "Cosine Similarity : 0.04978528121489196\n",
            "Document: Machine learning is the study of computer algorithms that improve automatically through experience.Machine learning algorithms build a mathematical model based on sample data, known as training data.The discipline of machine learning employs various approaches to teach computers to accomplish tasks where no fully satisfactory algorithm is available.\n",
            "\n",
            "\n",
            "Similar Documents:\n",
            "\n",
            "\n",
            "Document: Machine learning is closely related to computational statistics, which focuses on making predictions using computers.The study of mathematical optimization delivers methods, theory and application domains to the field of machine learning.\n",
            "Euclidean Distance : 1.2420904895586988\n",
            "\n",
            "\n",
            "Document: Machine learning involves computers discovering how they can perform tasks without being explicitly programmed to do so. It involves computers learning from data provided so that they carry out certain tasks.\n",
            "Euclidean Distance : 1.2443367330145854\n",
            "\n",
            "\n",
            "Document: Machine learning approaches are traditionally divided into three broad categories, depending on the nature of the \"signal\"or \"feedback\" available to the learning system: Supervised, Unsupervised and Reinforcement\n",
            "Euclidean Distance : 1.3014273678692956\n",
            "\n",
            "\n",
            "Document: A software engineer creates programs based on logic for the computer to execute. A software engineer has to be more concernedabout the correctness of the program in all the cases. Meanwhile, a data scientist is comfortable with uncertainty and variability.Developing a machine learning application is more iterative and explorative process than software engineering.\n",
            "Euclidean Distance : 1.3235754849845318\n",
            "\n",
            "\n",
            "Document: Software engineering is the systematic application of engineering approaches to the development of software.Software engineering is a computing discipline.\n",
            "Euclidean Distance : 1.378560639787099\n"
          ],
          "name": "stdout"
        }
      ]
    },
    {
      "cell_type": "code",
      "metadata": {
        "id": "K4O082Wk0bNb"
      },
      "source": [
        "\n"
      ],
      "execution_count": null,
      "outputs": []
    }
  ]
}