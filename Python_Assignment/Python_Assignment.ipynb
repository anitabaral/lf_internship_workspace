{
  "nbformat": 4,
  "nbformat_minor": 0,
  "metadata": {
    "colab": {
      "name": "Python Assignment.ipynb",
      "provenance": []
    },
    "kernelspec": {
      "name": "python3",
      "display_name": "Python 3"
    },
    "language_info": {
      "name": "python"
    }
  },
  "cells": [
    {
      "cell_type": "markdown",
      "metadata": {
        "id": "MhTb2KiT7gVx"
      },
      "source": [
        "Question 1: General questions:\n",
        "\n",
        "\n",
        "1.   Using Map with lambda function generate a third list with a single map statement that sums the integer elements of the same index of two given lists.\n",
        "\n",
        "\n",
        "2.   Write a function that takes a string and returns the dictionary with each character as key and its count as value.\n",
        "\n",
        "\n",
        "3. The dictionary  given below consists of vehicles and their weights in kilograms. Construct a list of the names of vehicles with weight below 5000 kilograms. In the same list comprehension makes the key names all uppercase. Use just a single comprehension statement to achieve it.\n",
        "\t\n",
        "\n"
      ]
    },
    {
      "cell_type": "code",
      "metadata": {
        "id": "COu2Anmbw8Cw",
        "colab": {
          "base_uri": "https://localhost:8080/"
        },
        "outputId": "5993e373-206e-44b2-e6ed-61b969e68df5"
      },
      "source": [
        "#An example of lambda function with map\n",
        "def listSum(lst1, lst2):\n",
        "  sum_list = list(map(lambda num1,num2: num1+num2, lst1,lst2))\n",
        "  return sum_list\n",
        "\n",
        "lst1=[100, 200, 300, 400, 500]\n",
        "lst2=[1,10,100,1000,10000]\n",
        "\n",
        "print(listSum(lst1, lst2))\n",
        "\n",
        "#Function that takes a string and returns the dictionary with each character as key and its count as value\n",
        "def charsCount(input_string):\n",
        "  frequency_table = {} \n",
        "  for char in input_string: \n",
        "      frequency_table[char] = frequency_table.get(char, 0) + 1\n",
        "  return frequency_table\n",
        "\n",
        "input_string = 'aaaaccbbb'\n",
        "print(charsCount(input_string))\n",
        "\n",
        "#Function that returns the name of vehicles with weight below 5000 kilograms in uppercase\n",
        "def listComprehension(dict):\n",
        "  list = [key.upper() for key, value in dict.items() if value > 5000 ]\n",
        "  return list\n",
        "\n",
        "dict={\n",
        "\"Sedan\": 1500, \"SUV\": 2000, \"Pickup\": 2500, \"Minivan\": 1600, \"Van\": 2400, \"Semi\": 13600, \"Bicycle\": 7, \"Motorcycle\": 110\n",
        "}\n",
        "print(listComprehension(dict))"
      ],
      "execution_count": null,
      "outputs": [
        {
          "output_type": "stream",
          "text": [
            "[101, 210, 400, 1400, 10500]\n",
            "{'a': 4, 'c': 2, 'b': 3}\n",
            "['SEMI']\n"
          ],
          "name": "stdout"
        }
      ]
    },
    {
      "cell_type": "markdown",
      "metadata": {
        "id": "7jR5FdUA-IM2"
      },
      "source": [
        "Question 2 Create a program to create a following form inputs as CLI inputs \n",
        "\n",
        "And write to a file as json data. Give a choice to the user to quit the program or repeat the process.\n",
        "\n",
        "Also Validate the data type from the user.\n"
      ]
    },
    {
      "cell_type": "code",
      "metadata": {
        "colab": {
          "base_uri": "https://localhost:8080/"
        },
        "id": "zC8jGDotZNgb",
        "outputId": "ddda73dc-1a1b-4c1b-b860-dba32a8b783f"
      },
      "source": [
        "import datetime\n",
        "import json\n",
        "\n",
        "def form():\n",
        "  form_dict = {\n",
        "      'name': [],\n",
        "      'dob': [],\n",
        "      'age': [],\n",
        "      'hobbies': []\n",
        "  }\n",
        "  while True:\n",
        "    name = input(\"Enter your name: \")\n",
        "    dob = input(\"Enter your date of birth in format 'dd/mm/yy': \")\n",
        "    age = input(\"Enter your age: \")\n",
        "    hobbies = input(\"Enter your hobbies separated by space: \")\n",
        "    hobbies_list = hobbies.split()\n",
        "\n",
        "    try:\n",
        "      str(name)\n",
        "      int(age)\n",
        "      list(hobbies_list)\n",
        "      day, month, year = dob.split('/')\n",
        "      datetime.datetime(int(year), int(month), int(day))\n",
        "      validate = True\n",
        "    except :\n",
        "      validate = False\n",
        "      print(\"Input values is not valid. Please enter the correct values.\")\n",
        "    \n",
        "    if validate == True:\n",
        "      form_dict['name'] = (str(name))\n",
        "      form_dict['age'] = (int(age))\n",
        "      form_dict['dob'] = dob\n",
        "      form_dict['hobbies'] = hobbies_list\n",
        "\n",
        "      with open(\"/content/drive/MyDrive/Leapfrog_internship/Python assignments/sample.json\", \"a\") as outfile:\n",
        "        json.dump(form_dict, outfile)\n",
        "\n",
        "    user_input = input(\"Enter q to quit or c to continue: \")\n",
        "    if user_input == 'q':\n",
        "      print(form_dict)\n",
        "      break\n",
        "\n",
        "form()\n",
        "\n"
      ],
      "execution_count": null,
      "outputs": [
        {
          "output_type": "stream",
          "text": [
            "Enter your name: ani\n",
            "Enter your date of birth in format 'dd/mm/yy': 09/09/1997\n",
            "Enter your age: 23\n",
            "Enter your hobbies separated by space: sing\n",
            "Enter q to quit or c to continue: c\n",
            "Enter your name: anu\n",
            "Enter your date of birth in format 'dd/mm/yy': 09/09/1999\n",
            "Enter your age: 24\n",
            "Enter your hobbies separated by space: dance\n",
            "Enter q to quit or c to continue: q\n",
            "{'name': 'anu', 'dob': '09/09/1999', 'age': 24, 'hobbies': ['dance']}\n"
          ],
          "name": "stdout"
        }
      ]
    },
    {
      "cell_type": "markdown",
      "metadata": {
        "id": "Ei6Y18O89xaa"
      },
      "source": [
        "Question 3: \n",
        "A bracket is considered to be any one of the following characters: \n",
        "(, ), {, }, [, or ].\n",
        "\n",
        "By the logic, we say a sequence of brackets is balanced if the following conditions are met:\n",
        "* It contains no unmatched brackets.\n",
        "* The subset of brackets enclosed within the confines of a matched pair of brackets is also a matched pair of brackets.\n",
        "\n",
        "Given a string of brackets as input, determine whether each sequence of brackets is balanced. If a string is balanced, return YES. Otherwise, return NO.\n",
        "\n"
      ]
    },
    {
      "cell_type": "code",
      "metadata": {
        "colab": {
          "base_uri": "https://localhost:8080/"
        },
        "id": "PppT2hgp3H1J",
        "outputId": "95e06a8e-034d-495b-915a-e8141890d017"
      },
      "source": [
        "def isBalanced(my_string):\n",
        "    brackets = ['()', '{}', '[]']\n",
        "    while any(x in my_string for x in brackets):\n",
        "        for br in brackets:\n",
        "            my_string = my_string.replace(br, '')\n",
        "    return not my_string\n",
        "\n",
        "brackets = input(\"Enter a string of brackets: \")\n",
        "print (isBalanced(brackets))\n",
        "\n",
        "#In every iteration the innermost brackets get eliminated (replaced with empty string). If we end up with an empty string, our initial one was balanced; otherwise, not."
      ],
      "execution_count": null,
      "outputs": [
        {
          "output_type": "stream",
          "text": [
            "Enter a string of brackets: {}(]{\n",
            "False\n"
          ],
          "name": "stdout"
        }
      ]
    },
    {
      "cell_type": "markdown",
      "metadata": {
        "id": "aHCcKGgU-dIz"
      },
      "source": [
        "Question 4: A left rotation operation on an integer array shifts each of the array's elements unit to the left. \n",
        "\n",
        "For example,  if 2 left rotations are performed on array [1,2,3,4,5] , then the array would become [3,4,5,1,2]"
      ]
    },
    {
      "cell_type": "code",
      "metadata": {
        "colab": {
          "base_uri": "https://localhost:8080/"
        },
        "id": "HhpgzC89Zj6p",
        "outputId": "331f98ef-c7bd-4e71-93b9-2eae61321cdc"
      },
      "source": [
        "class CircularRotation:\n",
        "  def __init__(self, array_list, num_rotate):\n",
        "    self.array_list = array_list\n",
        "    self.num_rotate = num_rotate\n",
        "  \n",
        "  def rotateLeft(self):\n",
        "    new_list = [None] * len(self.array_list) \n",
        "\n",
        "    for i, value in enumerate(self.array_list):\n",
        "      # print((i+ (len(self.array_list)- self.num_rotate))%(len(array_list)))\n",
        "      new_list[(i+ (len(self.array_list)- self.num_rotate))%(len(self.array_list))] = value\n",
        "    return new_list\n",
        "\n",
        "array = input(\"Enter the array values separated by space: \")\n",
        "num_rotate = input(\"Enter the number of rotations to be made: \")\n",
        "array_list = [int(i) for i in array.split()]\n",
        "\n",
        "circularRotation = CircularRotation(array_list, int(num_rotate))\n",
        "print(circularRotation.rotateLeft())"
      ],
      "execution_count": null,
      "outputs": [
        {
          "output_type": "stream",
          "text": [
            "Enter the array values separated by space: 1 2 3 4 5\n",
            "Enter the number of rotations to be made: 2\n",
            "[3, 4, 5, 1, 2]\n"
          ],
          "name": "stdout"
        }
      ]
    },
    {
      "cell_type": "markdown",
      "metadata": {
        "id": "E5aZdO1B_Yjc"
      },
      "source": [
        "Question 5: Create a Simple Python Package of your own that provides specific sample  service and publish it as an open source python package to PyPI.\n",
        "\n"
      ]
    },
    {
      "cell_type": "markdown",
      "metadata": {
        "id": "Ex82kM3hXwfp"
      },
      "source": [
        "https://test.pypi.org/project/space-age/1.0.1/"
      ]
    },
    {
      "cell_type": "markdown",
      "metadata": {
        "id": "N2B_rea8-se8"
      },
      "source": [
        "###Assignment Part 2\n"
      ]
    },
    {
      "cell_type": "markdown",
      "metadata": {
        "id": "wisVssRAnyg1"
      },
      "source": [
        "Create an iterator and generator for square numbers with their use.\n"
      ]
    },
    {
      "cell_type": "code",
      "metadata": {
        "id": "CXRlt1bGn1cy",
        "colab": {
          "base_uri": "https://localhost:8080/"
        },
        "outputId": "2012dca8-0cb1-4a58-dcdb-317012f6321a"
      },
      "source": [
        "class SquareNumbers:\n",
        "    def __init__(self, max = 0):\n",
        "      self.max = max\n",
        "    \n",
        "    def __iter__(self):\n",
        "      self.n = 1\n",
        "      return self\n",
        "\n",
        "    def __next__(self):\n",
        "      if self.n <= self.max:\n",
        "        result = self.n*self.n\n",
        "        self.n += 1\n",
        "        return result\n",
        "      else:\n",
        "        raise StopIteration\n",
        "\n",
        "\n",
        "numbers = SquareNumbers(5)\n",
        "\n",
        "for i in numbers:\n",
        "  print(i)\n",
        "\n",
        "\n",
        "# a generator is a function that returns an object (iterator) which we can iterate over (one value at a time).\n",
        "def square(n):\n",
        "  num =1\n",
        "  while True:\n",
        "      yield num*num\n",
        "      if num == n:\n",
        "        return\n",
        "      else:\n",
        "        num+=1\n",
        "\n",
        "# for i in square(10):\n",
        "#   print (i)"
      ],
      "execution_count": null,
      "outputs": [
        {
          "output_type": "stream",
          "text": [
            "1\n",
            "4\n",
            "9\n",
            "16\n",
            "25\n"
          ],
          "name": "stdout"
        }
      ]
    },
    {
      "cell_type": "markdown",
      "metadata": {
        "id": "i9gsV_kvpnIA"
      },
      "source": [
        "Create decorators \n",
        "\n",
        "> Without parameters in decorator\n",
        "\n",
        "> Passing parameters in decorator\n"
      ]
    },
    {
      "cell_type": "code",
      "metadata": {
        "colab": {
          "base_uri": "https://localhost:8080/"
        },
        "id": "w3AqmuTYprRx",
        "outputId": "1cb173cf-ae66-480f-cce1-5d7d2e5794d9"
      },
      "source": [
        "#Without parameters in decorator\n",
        "def upperCase(function):\n",
        "  def wrapper():\n",
        "    input_list = function()\n",
        "    return [i.upper() for i in input_list]\n",
        "  return wrapper\n",
        "\n",
        "def greaterThan(function):\n",
        "    def wrapper():\n",
        "        input_dict = function()\n",
        "        return  [key for key, value in input_dict.items() if value > 5000 ]\n",
        "    return wrapper\n",
        "\n",
        "@upperCase\n",
        "@greaterThan\n",
        "def frequency():\n",
        "  dict={\"Sedan\": 1500, \"SUV\": 2000, \"Pickup\": 2500, \"Minivan\": 1600, \"Van\": 2400, \"Semi\": 13600, \"Bicycle\": 7, \"Motorcycle\": 110}\n",
        "  return dict\n",
        "\n",
        "frequency()\n",
        "\n",
        "#Passing  parameters in decorator\n",
        "def decorator_with_arguments(function):\n",
        "    def wrapper_accepting_arguments(arg1, arg2):\n",
        "        print(\"My arguments are: {0}, {1}\".format(arg1,arg2))\n",
        "        function(arg1, arg2)\n",
        "    return wrapper_accepting_arguments\n",
        "\n",
        "\n",
        "@decorator_with_arguments\n",
        "def cities(city_one, city_two):\n",
        "    print(\"Cities I love are {0} and {1}\".format(city_one, city_two))\n",
        "\n",
        "cities(\"Nairobi\", \"Accra\")\n",
        "\n",
        "#general purpose decorators\n",
        "def a_decorator_passing_arbitrary_arguments(function_to_decorate):\n",
        "    def a_wrapper_accepting_arbitrary_arguments(*args,**kwargs):\n",
        "        print('Few cities of Nepal are', args)\n",
        "        print('The keyword arguments are', kwargs)\n",
        "        function_to_decorate(*args)\n",
        "    return a_wrapper_accepting_arbitrary_arguments\n",
        "\n",
        "@a_decorator_passing_arbitrary_arguments\n",
        "def citiesNepal(a, b, c):\n",
        "    print(a, b, c)\n",
        "\n",
        "citiesNepal('Pokhara', 'Kathmandu', 'Butwal')"
      ],
      "execution_count": null,
      "outputs": [
        {
          "output_type": "stream",
          "text": [
            "My arguments are: Nairobi, Accra\n",
            "Cities I love are Nairobi and Accra\n",
            "Few cities of Nepal are ('Pokhara', 'Kathmandu', 'Butwal')\n",
            "The keyword arguments are {}\n",
            "Pokhara Kathmandu Butwal\n"
          ],
          "name": "stdout"
        }
      ]
    },
    {
      "cell_type": "markdown",
      "metadata": {
        "id": "ny-pXBuA0rjp"
      },
      "source": [
        "Create a scenario where following errors are handled:\n",
        "\n",
        "a. Custom Error implemented using class\n",
        "\n",
        "b. Custom Error using Exception or BaseException class using message to handle at least two of the cases.\n",
        "\n",
        "c. Full fledged case for exception handling using try, except, else, finally\n"
      ]
    },
    {
      "cell_type": "code",
      "metadata": {
        "colab": {
          "base_uri": "https://localhost:8080/",
          "height": 197
        },
        "id": "xbtWyzFJ7e1d",
        "outputId": "43d961a4-b5fe-4df4-acff-08402b713027"
      },
      "source": [
        "class CustomError(Exception):\n",
        "  def __init__(self, *args):\n",
        "    if args:\n",
        "      self.message = args[0]\n",
        "    else:\n",
        "      self.message = None\n",
        "  \n",
        "  def __str__(self):\n",
        "    if self.message:\n",
        "      return self.message\n",
        "    else:\n",
        "      return 'CustomError has been raised'\n",
        "\n",
        "raise CustomError('The line of code raises an error.')"
      ],
      "execution_count": null,
      "outputs": [
        {
          "output_type": "error",
          "ename": "CustomError",
          "evalue": "ignored",
          "traceback": [
            "\u001b[0;31m---------------------------------------------------------------------------\u001b[0m",
            "\u001b[0;31mCustomError\u001b[0m                               Traceback (most recent call last)",
            "\u001b[0;32m<ipython-input-18-4e4121da1425>\u001b[0m in \u001b[0;36m<module>\u001b[0;34m()\u001b[0m\n\u001b[1;32m     12\u001b[0m       \u001b[0;32mreturn\u001b[0m \u001b[0;34m'CustomError has been raised'\u001b[0m\u001b[0;34m\u001b[0m\u001b[0;34m\u001b[0m\u001b[0m\n\u001b[1;32m     13\u001b[0m \u001b[0;34m\u001b[0m\u001b[0m\n\u001b[0;32m---> 14\u001b[0;31m \u001b[0;32mraise\u001b[0m \u001b[0mCustomError\u001b[0m\u001b[0;34m(\u001b[0m\u001b[0;34m'The line of code raises an error.'\u001b[0m\u001b[0;34m)\u001b[0m\u001b[0;34m\u001b[0m\u001b[0;34m\u001b[0m\u001b[0m\n\u001b[0m",
            "\u001b[0;31mCustomError\u001b[0m: The line of code raises an error."
          ]
        }
      ]
    },
    {
      "cell_type": "code",
      "metadata": {
        "colab": {
          "base_uri": "https://localhost:8080/",
          "height": 350
        },
        "id": "r3dP5bi4-cK4",
        "outputId": "060bd4c9-ae4f-4597-9970-49ab58ef8bb0"
      },
      "source": [
        "#raise exception if the age is not an integer \n",
        "class CustomError(Exception):\n",
        "  def __init__(self, *args):\n",
        "    if args:\n",
        "      self.message = args[0]\n",
        "    else:\n",
        "      self.message = None\n",
        "  \n",
        "  def __str__(self):\n",
        "    if self.message:\n",
        "      return self.message\n",
        "    else:\n",
        "      return 'CustomError has been raised'\n",
        "\n",
        "def readAge(age):\n",
        "  try :\n",
        "    int(age)\n",
        "  except:\n",
        "    raise CustomError('Value of age should be an integer.')\n",
        "  if int(age) > 100:\n",
        "    raise CustomError('Value of age is unreal.')\n",
        "  else:\n",
        "    print('Eveything is good.')\n",
        "\n",
        "age = input('Enter your age: ')\n",
        "readAge(age)\n",
        "# raise CustomError('The line of code raises an error.')"
      ],
      "execution_count": null,
      "outputs": [
        {
          "output_type": "stream",
          "text": [
            "Enter your age: 122\n"
          ],
          "name": "stdout"
        },
        {
          "output_type": "error",
          "ename": "CustomError",
          "evalue": "ignored",
          "traceback": [
            "\u001b[0;31m---------------------------------------------------------------------------\u001b[0m",
            "\u001b[0;31mCustomError\u001b[0m                               Traceback (most recent call last)",
            "\u001b[0;32m<ipython-input-29-f41bae5db8fa>\u001b[0m in \u001b[0;36m<module>\u001b[0;34m()\u001b[0m\n\u001b[1;32m     24\u001b[0m \u001b[0;34m\u001b[0m\u001b[0m\n\u001b[1;32m     25\u001b[0m \u001b[0mage\u001b[0m \u001b[0;34m=\u001b[0m \u001b[0minput\u001b[0m\u001b[0;34m(\u001b[0m\u001b[0;34m'Enter your age: '\u001b[0m\u001b[0;34m)\u001b[0m\u001b[0;34m\u001b[0m\u001b[0;34m\u001b[0m\u001b[0m\n\u001b[0;32m---> 26\u001b[0;31m \u001b[0mreadAge\u001b[0m\u001b[0;34m(\u001b[0m\u001b[0mage\u001b[0m\u001b[0;34m)\u001b[0m\u001b[0;34m\u001b[0m\u001b[0;34m\u001b[0m\u001b[0m\n\u001b[0m\u001b[1;32m     27\u001b[0m \u001b[0;31m# raise CustomError('The line of code raises an error.')\u001b[0m\u001b[0;34m\u001b[0m\u001b[0;34m\u001b[0m\u001b[0;34m\u001b[0m\u001b[0m\n",
            "\u001b[0;32m<ipython-input-29-f41bae5db8fa>\u001b[0m in \u001b[0;36mreadAge\u001b[0;34m(age)\u001b[0m\n\u001b[1;32m     19\u001b[0m     \u001b[0;32mraise\u001b[0m \u001b[0mCustomError\u001b[0m\u001b[0;34m(\u001b[0m\u001b[0;34m'Value of age should be an integer.'\u001b[0m\u001b[0;34m)\u001b[0m\u001b[0;34m\u001b[0m\u001b[0;34m\u001b[0m\u001b[0m\n\u001b[1;32m     20\u001b[0m   \u001b[0;32mif\u001b[0m \u001b[0mint\u001b[0m\u001b[0;34m(\u001b[0m\u001b[0mage\u001b[0m\u001b[0;34m)\u001b[0m \u001b[0;34m>\u001b[0m \u001b[0;36m100\u001b[0m\u001b[0;34m:\u001b[0m\u001b[0;34m\u001b[0m\u001b[0;34m\u001b[0m\u001b[0m\n\u001b[0;32m---> 21\u001b[0;31m     \u001b[0;32mraise\u001b[0m \u001b[0mCustomError\u001b[0m\u001b[0;34m(\u001b[0m\u001b[0;34m'Value of age is unreal.'\u001b[0m\u001b[0;34m)\u001b[0m\u001b[0;34m\u001b[0m\u001b[0;34m\u001b[0m\u001b[0m\n\u001b[0m\u001b[1;32m     22\u001b[0m   \u001b[0;32melse\u001b[0m\u001b[0;34m:\u001b[0m\u001b[0;34m\u001b[0m\u001b[0;34m\u001b[0m\u001b[0m\n\u001b[1;32m     23\u001b[0m     \u001b[0mprint\u001b[0m\u001b[0;34m(\u001b[0m\u001b[0;34m'Thank you'\u001b[0m\u001b[0;34m)\u001b[0m\u001b[0;34m\u001b[0m\u001b[0;34m\u001b[0m\u001b[0m\n",
            "\u001b[0;31mCustomError\u001b[0m: Value of age is unreal."
          ]
        }
      ]
    },
    {
      "cell_type": "code",
      "metadata": {
        "id": "b2QE0TbwEGzR",
        "colab": {
          "base_uri": "https://localhost:8080/"
        },
        "outputId": "e56c0721-3d92-461a-d1df-c3d8aaa17d6b"
      },
      "source": [
        "try:\n",
        "    x = float(input(\"Your number: \"))\n",
        "    inverse = 1.0 / x\n",
        "    print('The inverse of the provided number is {}'.format(inverse))\n",
        "except ValueError:\n",
        "    print(\"Please enter a integer or a float number.\")\n",
        "else ZeroDivisionError:\n",
        "    print(\"The value is infinity as you have entered the value as zero.\")\n",
        "finally:\n",
        "    print(\"There may or may not have been an exception.\")"
      ],
      "execution_count": null,
      "outputs": [
        {
          "output_type": "stream",
          "text": [
            "Your number: 2\n",
            "The inverse of the provided number is 0.5\n",
            "There may or may not have been an exception.\n"
          ],
          "name": "stdout"
        }
      ]
    },
    {
      "cell_type": "markdown",
      "metadata": {
        "id": "YmmYB1lFkcUb"
      },
      "source": [
        "Create at least 4 classes having semantic meaning (having relation to each other) so that multiple inheritance can be achieved and incorporating following things in some of them:\n",
        "\n",
        "a. @classmethod \n",
        "\n",
        "b. @staticmethod\n",
        "\n",
        "c. @property and setter for it\n",
        "\n",
        "d. Dunder methods __str__ and more…\n",
        "\n",
        "e. Class_variable\n"
      ]
    },
    {
      "cell_type": "code",
      "metadata": {
        "id": "-VB_grf8prn_",
        "colab": {
          "base_uri": "https://localhost:8080/"
        },
        "outputId": "9af5b6a2-a31f-445e-b40b-cea59495f84c"
      },
      "source": [
        "#definition of the class starts here  \n",
        "class Person:  \n",
        "    #defining constructor  \n",
        "    def __init__(self, personName, personAge):  \n",
        "        self.name = personName  \n",
        "        self.age = personAge  \n",
        "  \n",
        "    #defining class methods  \n",
        "    def name(self):  \n",
        "        return self.name\n",
        "  \n",
        "    def showAge(self):  \n",
        "        print(self.age)  \n",
        "\n",
        "    @staticmethod\n",
        "    def is_adult(age):\n",
        "      if age > 18:\n",
        "        return True\n",
        "      else:\n",
        "        return False\n",
        "    #end of class definition  \n",
        "  \n",
        "# defining another class  \n",
        "class Student(Person): # Person is the  \n",
        "    def __init__(self, studentId, **kwargs):  \n",
        "        self.studentId = studentId\n",
        "        self.__collegeName = '' \n",
        "        super(Student, self).__init__(**kwargs)\n",
        "\n",
        "    def getId(self):  \n",
        "        return self.studentId  \n",
        "    \n",
        "    @property\n",
        "\n",
        "    #getter\n",
        "    def collegeName(self):\n",
        "      return self.college_name\n",
        "\n",
        "    @collegeName.setter\n",
        "    def collegeName(self, val):\n",
        "      self.college_name = val\n",
        "\n",
        "  \n",
        "  \n",
        "class Resident(Person): # extends both Person and Student class  \n",
        "    Total_Residents = 0\n",
        "    def __init__(self, resId, **kwargs):\n",
        "        self.residentId = resId\n",
        "        super(Resident, self).__init__(**kwargs)\n",
        "        Resident.Total_Residents += 1\n",
        "      \n",
        "    def getresId(self):\n",
        "        return self.resId\n",
        "\n",
        "    @classmethod\n",
        "    def total_residents(cls):\n",
        "        print(\"Total reisdents: \", cls.Total_Residents)\n",
        "      \n",
        "class StudentResident(Student, Resident):\n",
        "    def __init__(self, personName, personAge, studentId, residentId, rent):\n",
        "        self.rent = rent\n",
        "        super(StudentResident, self).__init__(personName = personName, personAge = personAge, studentId = studentId, resId = residentId)\n",
        "\n",
        "    def __repr__(self):\n",
        "        return 'Printing the Student Resident object'\n",
        "\n",
        "resident1 = StudentResident('John', 30, '102', '189', '10,000')  \n",
        "print(resident1)\n"
      ],
      "execution_count": null,
      "outputs": [
        {
          "output_type": "stream",
          "text": [
            "Printing the Student Resident object\n"
          ],
          "name": "stdout"
        }
      ]
    }
  ]
}